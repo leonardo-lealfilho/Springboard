{
 "cells": [
  {
   "cell_type": "code",
   "execution_count": 1,
   "metadata": {},
   "outputs": [],
   "source": [
    "import pandas as pd"
   ]
  },
  {
   "cell_type": "code",
   "execution_count": 2,
   "metadata": {},
   "outputs": [],
   "source": [
    "df_2014 = pd.read_csv(\"Financial_Indicators/2014_Financial_Data.csv\", index_col=0)\n",
    "df_2015 = pd.read_csv(\"Financial_Indicators/2015_Financial_Data.csv\", index_col=0)\n",
    "df_2016 = pd.read_csv(\"Financial_Indicators/2016_Financial_Data.csv\", index_col=0)\n",
    "df_2017 = pd.read_csv(\"Financial_Indicators/2017_Financial_Data.csv\", index_col=0)\n",
    "df_2018 = pd.read_csv(\"Financial_Indicators/2018_Financial_Data.csv\", index_col=0)"
   ]
  },
  {
   "cell_type": "code",
   "execution_count": null,
   "metadata": {},
   "outputs": [],
   "source": []
  }
 ],
 "metadata": {
  "kernelspec": {
   "display_name": "Python 3",
   "language": "python",
   "name": "python3"
  },
  "language_info": {
   "codemirror_mode": {
    "name": "ipython",
    "version": 3
   },
   "file_extension": ".py",
   "mimetype": "text/x-python",
   "name": "python",
   "nbconvert_exporter": "python",
   "pygments_lexer": "ipython3",
   "version": "3.7.6"
  }
 },
 "nbformat": 4,
 "nbformat_minor": 4
}
